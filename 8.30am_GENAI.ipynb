{
 "cells": [
  {
   "cell_type": "markdown",
   "id": "33a8e663-2782-44f1-abeb-b5d668293958",
   "metadata": {},
   "source": [
    "Basic Python"
   ]
  },
  {
   "cell_type": "code",
   "execution_count": 3,
   "id": "6af73746-1f58-4b00-9053-e98742281947",
   "metadata": {},
   "outputs": [
    {
     "data": {
      "text/plain": [
       "'3.12.7 | packaged by Anaconda, Inc. | (main, Oct  4 2024, 13:17:27) [MSC v.1929 64 bit (AMD64)]'"
      ]
     },
     "execution_count": 3,
     "metadata": {},
     "output_type": "execute_result"
    }
   ],
   "source": [
    "import sys\n",
    "sys.version"
   ]
  },
  {
   "cell_type": "code",
   "execution_count": 5,
   "id": "8e1b54f3-d47d-4ca3-94cd-0e19cb1e516f",
   "metadata": {},
   "outputs": [
    {
     "data": {
      "text/plain": [
       "5"
      ]
     },
     "execution_count": 5,
     "metadata": {},
     "output_type": "execute_result"
    }
   ],
   "source": [
    "2+3"
   ]
  },
  {
   "cell_type": "markdown",
   "id": "fbd16936-566c-4bdd-8f7d-7ec130c5b422",
   "metadata": {
    "jp-MarkdownHeadingCollapsed": true
   },
   "source": [
    "10-5"
   ]
  },
  {
   "cell_type": "code",
   "execution_count": 10,
   "id": "0b885507-1875-4c91-b612-7d0b9804a076",
   "metadata": {},
   "outputs": [
    {
     "data": {
      "text/plain": [
       "8"
      ]
     },
     "execution_count": 10,
     "metadata": {},
     "output_type": "execute_result"
    }
   ],
   "source": [
    "10-2"
   ]
  },
  {
   "cell_type": "code",
   "execution_count": 12,
   "id": "74a7e922-22f3-4f01-aa9e-1e983c465e7a",
   "metadata": {},
   "outputs": [
    {
     "data": {
      "text/plain": [
       "False"
      ]
     },
     "execution_count": 12,
     "metadata": {},
     "output_type": "execute_result"
    }
   ],
   "source": [
    "3==2"
   ]
  },
  {
   "cell_type": "code",
   "execution_count": 28,
   "id": "84c13c79-18ce-49d6-ac0e-8c3573d2fce0",
   "metadata": {},
   "outputs": [
    {
     "data": {
      "text/plain": [
       "2"
      ]
     },
     "execution_count": 28,
     "metadata": {},
     "output_type": "execute_result"
    }
   ],
   "source": [
    "10/5\n",
    "10//5"
   ]
  },
  {
   "cell_type": "code",
   "execution_count": 34,
   "id": "d78f7e0e-aeee-4143-b3e7-e9311d5aed17",
   "metadata": {},
   "outputs": [
    {
     "data": {
      "text/plain": [
       "'arabinda'"
      ]
     },
     "execution_count": 34,
     "metadata": {},
     "output_type": "execute_result"
    }
   ],
   "source": [
    "v=5#v variable\n",
    "v\n",
    "v2='arabinda'\n",
    "v2"
   ]
  },
  {
   "cell_type": "code",
   "execution_count": 36,
   "id": "9b607761-a203-4637-b671-763dc2b29cd1",
   "metadata": {},
   "outputs": [
    {
     "data": {
      "text/plain": [
       "str"
      ]
     },
     "execution_count": 36,
     "metadata": {},
     "output_type": "execute_result"
    }
   ],
   "source": [
    "type(v)\n",
    "type(v2)"
   ]
  },
  {
   "cell_type": "code",
   "execution_count": null,
   "id": "ced3347b-8a17-4cc0-a286-fea585e3326c",
   "metadata": {},
   "outputs": [],
   "source": []
  },
  {
   "cell_type": "code",
   "execution_count": null,
   "id": "1db67b39-2219-4856-a145-8b170c389a82",
   "metadata": {},
   "outputs": [],
   "source": []
  }
 ],
 "metadata": {
  "kernelspec": {
   "display_name": "Python [conda env:base] *",
   "language": "python",
   "name": "conda-base-py"
  },
  "language_info": {
   "codemirror_mode": {
    "name": "ipython",
    "version": 3
   },
   "file_extension": ".py",
   "mimetype": "text/x-python",
   "name": "python",
   "nbconvert_exporter": "python",
   "pygments_lexer": "ipython3",
   "version": "3.12.7"
  }
 },
 "nbformat": 4,
 "nbformat_minor": 5
}
