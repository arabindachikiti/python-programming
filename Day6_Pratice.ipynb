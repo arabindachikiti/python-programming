{
 "cells": [
  {
   "cell_type": "code",
   "execution_count": 4,
   "id": "cb51446d-b56d-4b89-a77c-7c1d3a1331ae",
   "metadata": {},
   "outputs": [
    {
     "name": "stdout",
     "output_type": "stream",
     "text": [
      "<class 'int'>\n"
     ]
    }
   ],
   "source": [
    "i=25\n",
    "print(type(i))"
   ]
  },
  {
   "cell_type": "code",
   "execution_count": 10,
   "id": "7fa94da9-2026-402d-a8f7-04c76ad0fff5",
   "metadata": {},
   "outputs": [
    {
     "data": {
      "text/plain": [
       "True"
      ]
     },
     "execution_count": 10,
     "metadata": {},
     "output_type": "execute_result"
    }
   ],
   "source": [
    "b=True\n",
    "b"
   ]
  },
  {
   "cell_type": "code",
   "execution_count": 12,
   "id": "255f1f3c-54a6-44aa-bcae-bef5ccacd9cd",
   "metadata": {},
   "outputs": [
    {
     "data": {
      "text/plain": [
       "1"
      ]
     },
     "execution_count": 12,
     "metadata": {},
     "output_type": "execute_result"
    }
   ],
   "source": [
    "True+False"
   ]
  },
  {
   "cell_type": "code",
   "execution_count": 77,
   "id": "cfd4fcf9-ae03-4311-a498-07bc7127b910",
   "metadata": {},
   "outputs": [
    {
     "name": "stdout",
     "output_type": "stream",
     "text": [
      "1\n"
     ]
    }
   ],
   "source": [
    "b1=True\n",
    "print(int(b1))#Explicit type casting"
   ]
  },
  {
   "cell_type": "code",
   "execution_count": 16,
   "id": "ee69003b-e077-4dc9-9662-59e7d9aad206",
   "metadata": {},
   "outputs": [
    {
     "data": {
      "text/plain": [
       "complex"
      ]
     },
     "execution_count": 16,
     "metadata": {},
     "output_type": "execute_result"
    }
   ],
   "source": [
    "c1=10+20j\n",
    "c1\n",
    "type(c1)"
   ]
  },
  {
   "cell_type": "code",
   "execution_count": 22,
   "id": "7cae4c80-bd96-4527-94d4-79107e71f18b",
   "metadata": {},
   "outputs": [
    {
     "name": "stdout",
     "output_type": "stream",
     "text": [
      "10.0\n",
      "20.0\n"
     ]
    }
   ],
   "source": [
    "print(c1.real)\n",
    "print(c1.imag)"
   ]
  },
  {
   "cell_type": "code",
   "execution_count": 30,
   "id": "24cf91bf-9671-49ec-8f8f-1c034a933aea",
   "metadata": {},
   "outputs": [
    {
     "name": "stdout",
     "output_type": "stream",
     "text": [
      "(10+20j)\n",
      "(20+30j)\n",
      "(30+50j)\n",
      "(-10-10j)\n",
      "(-400+700j)\n"
     ]
    }
   ],
   "source": [
    "c2=20+30j\n",
    "print(c1)\n",
    "print(c2)\n",
    "print(c1+c2)\n",
    "print(c1-c2)\n",
    "print(c1*c2)"
   ]
  },
  {
   "cell_type": "markdown",
   "id": "ce3bdfa5-1aa0-4435-93ba-cf23076b7161",
   "metadata": {},
   "source": [
    "S1='NARESHIT'\n",
    "S1\n"
   ]
  },
  {
   "cell_type": "code",
   "execution_count": 46,
   "id": "abacbbb2-f60e-4020-b249-2b65b78dac5b",
   "metadata": {},
   "outputs": [
    {
     "data": {
      "text/plain": [
       "'NARESH IT'"
      ]
     },
     "execution_count": 46,
     "metadata": {},
     "output_type": "execute_result"
    }
   ],
   "source": [
    "S='NARESH IT'\n",
    "S"
   ]
  },
  {
   "cell_type": "code",
   "execution_count": 50,
   "id": "022b59f0-b5b1-4f39-beda-10f6b4e74eda",
   "metadata": {},
   "outputs": [
    {
     "name": "stdout",
     "output_type": "stream",
     "text": [
      "NARESH IT\n"
     ]
    }
   ],
   "source": [
    "S2=\"NARESH IT\"\n",
    "print(S2)"
   ]
  },
  {
   "cell_type": "code",
   "execution_count": 54,
   "id": "cec7486f-f593-4f1a-8172-41b590ece922",
   "metadata": {},
   "outputs": [
    {
     "name": "stdout",
     "output_type": "stream",
     "text": [
      "naresh \n",
      "    it\n"
     ]
    },
    {
     "data": {
      "text/plain": [
       "'naresh \\n    it'"
      ]
     },
     "execution_count": 54,
     "metadata": {},
     "output_type": "execute_result"
    }
   ],
   "source": [
    "s3='''naresh \n",
    "    it'''\n",
    "print(s3)\n",
    "s3"
   ]
  },
  {
   "cell_type": "code",
   "execution_count": 58,
   "id": "0f59b33a-3036-4faf-a231-fc0db090056d",
   "metadata": {},
   "outputs": [
    {
     "data": {
      "text/plain": [
       "'NARESH IT'"
      ]
     },
     "execution_count": 58,
     "metadata": {},
     "output_type": "execute_result"
    }
   ],
   "source": [
    "S1"
   ]
  },
  {
   "cell_type": "code",
   "execution_count": 60,
   "id": "193275d6-8729-40b6-bb1c-a7309e3aeb75",
   "metadata": {},
   "outputs": [
    {
     "data": {
      "text/plain": [
       "'NARESH IT'"
      ]
     },
     "execution_count": 60,
     "metadata": {},
     "output_type": "execute_result"
    }
   ],
   "source": [
    "S1[:]"
   ]
  },
  {
   "cell_type": "code",
   "execution_count": 68,
   "id": "0ab08df0-d3f1-4351-a235-f658e7c6a8d6",
   "metadata": {},
   "outputs": [
    {
     "name": "stdout",
     "output_type": "stream",
     "text": [
      "E\n",
      " \n"
     ]
    }
   ],
   "source": [
    "print(S1[3])#forword indexing\n",
    "print(S1[6])"
   ]
  },
  {
   "cell_type": "code",
   "execution_count": 70,
   "id": "517796bc-518d-456b-968b-8eea6fab3134",
   "metadata": {},
   "outputs": [
    {
     "data": {
      "text/plain": [
       "'T'"
      ]
     },
     "execution_count": 70,
     "metadata": {},
     "output_type": "execute_result"
    }
   ],
   "source": [
    "S1[-1]#Backword indexning"
   ]
  },
  {
   "cell_type": "code",
   "execution_count": 83,
   "id": "6424deb4-a19d-43ca-ab79-f63626834ad9",
   "metadata": {},
   "outputs": [
    {
     "data": {
      "text/plain": [
       "'ARESHI'"
      ]
     },
     "execution_count": 83,
     "metadata": {},
     "output_type": "execute_result"
    }
   ],
   "source": [
    "S1='NARESHIT'\n",
    "S1[1:7]"
   ]
  },
  {
   "cell_type": "markdown",
   "id": "fb40cb8c-986f-44c1-ae56-07025cc8de72",
   "metadata": {},
   "source": [
    "DAY 7\n"
   ]
  },
  {
   "cell_type": "markdown",
   "id": "202bc4d0-eabb-4e1b-93c5-77b80256d904",
   "metadata": {},
   "source": [
    "TYPE CASTING"
   ]
  },
  {
   "cell_type": "code",
   "execution_count": 90,
   "id": "b8f2f017-13ba-46e6-94de-0278569bbfa7",
   "metadata": {},
   "outputs": [
    {
     "data": {
      "text/plain": [
       "2"
      ]
     },
     "execution_count": 90,
     "metadata": {},
     "output_type": "execute_result"
    }
   ],
   "source": [
    "int(2.3)"
   ]
  },
  {
   "cell_type": "code",
   "execution_count": 92,
   "id": "91a7660a-ef5a-46f8-899c-a2b39235770d",
   "metadata": {},
   "outputs": [
    {
     "data": {
      "text/plain": [
       "1"
      ]
     },
     "execution_count": 92,
     "metadata": {},
     "output_type": "execute_result"
    }
   ],
   "source": [
    "int(True)"
   ]
  },
  {
   "cell_type": "code",
   "execution_count": 94,
   "id": "b41d8e80-6d5e-4bcd-8987-92c280f30e23",
   "metadata": {},
   "outputs": [
    {
     "data": {
      "text/plain": [
       "2"
      ]
     },
     "execution_count": 94,
     "metadata": {},
     "output_type": "execute_result"
    }
   ],
   "source": [
    "True+True"
   ]
  },
  {
   "cell_type": "code",
   "execution_count": 96,
   "id": "f1d64dbe-a51d-407d-8314-ce4eb3d38655",
   "metadata": {},
   "outputs": [
    {
     "ename": "ValueError",
     "evalue": "invalid literal for int() with base 10: 'NARESHIT'",
     "output_type": "error",
     "traceback": [
      "\u001b[1;31m---------------------------------------------------------------------------\u001b[0m",
      "\u001b[1;31mValueError\u001b[0m                                Traceback (most recent call last)",
      "Cell \u001b[1;32mIn[96], line 1\u001b[0m\n\u001b[1;32m----> 1\u001b[0m \u001b[38;5;28mint\u001b[39m(S1)\n",
      "\u001b[1;31mValueError\u001b[0m: invalid literal for int() with base 10: 'NARESHIT'"
     ]
    }
   ],
   "source": [
    "int(S1)#not possible taye casting"
   ]
  },
  {
   "cell_type": "code",
   "execution_count": 98,
   "id": "6a580d72-bc45-4fa1-ac76-446ce9af5399",
   "metadata": {},
   "outputs": [
    {
     "data": {
      "text/plain": [
       "(10+0j)"
      ]
     },
     "execution_count": 98,
     "metadata": {},
     "output_type": "execute_result"
    }
   ],
   "source": [
    " complex(10)"
   ]
  },
  {
   "cell_type": "code",
   "execution_count": 102,
   "id": "fef35116-049a-48b6-ac06-9cce2ad1525b",
   "metadata": {},
   "outputs": [
    {
     "data": {
      "text/plain": [
       "(10+20j)"
      ]
     },
     "execution_count": 102,
     "metadata": {},
     "output_type": "execute_result"
    }
   ],
   "source": [
    "complex(10,20)"
   ]
  },
  {
   "cell_type": "code",
   "execution_count": 104,
   "id": "dde9e440-6528-402e-98c1-094168379521",
   "metadata": {},
   "outputs": [
    {
     "data": {
      "text/plain": [
       "(20.1+0j)"
      ]
     },
     "execution_count": 104,
     "metadata": {},
     "output_type": "execute_result"
    }
   ],
   "source": [
    "complex(20.10)"
   ]
  },
  {
   "cell_type": "code",
   "execution_count": 106,
   "id": "95083160-7027-443d-bf89-16b84f8e8ce4",
   "metadata": {},
   "outputs": [
    {
     "data": {
      "text/plain": [
       "(1+1j)"
      ]
     },
     "execution_count": 106,
     "metadata": {},
     "output_type": "execute_result"
    }
   ],
   "source": [
    "complex(True,True)"
   ]
  },
  {
   "cell_type": "code",
   "execution_count": 108,
   "id": "0b5aa464-f31b-490c-bd8b-8cb80f113abc",
   "metadata": {},
   "outputs": [
    {
     "data": {
      "text/plain": [
       "0j"
      ]
     },
     "execution_count": 108,
     "metadata": {},
     "output_type": "execute_result"
    }
   ],
   "source": [
    "complex(False)"
   ]
  },
  {
   "cell_type": "code",
   "execution_count": 124,
   "id": "9307ab9f-a664-4aaa-acfc-29fafba2b93a",
   "metadata": {},
   "outputs": [
    {
     "data": {
      "text/plain": [
       "False"
      ]
     },
     "execution_count": 124,
     "metadata": {},
     "output_type": "execute_result"
    }
   ],
   "source": [
    "bool(10+20j)\n",
    "bool(0.0)"
   ]
  },
  {
   "cell_type": "code",
   "execution_count": 132,
   "id": "7433a80f-4b73-4401-a95f-996b2b2914f2",
   "metadata": {},
   "outputs": [
    {
     "data": {
      "text/plain": [
       "(10+20j)"
      ]
     },
     "execution_count": 132,
     "metadata": {},
     "output_type": "execute_result"
    }
   ],
   "source": [
    "complex(10+20j)"
   ]
  },
  {
   "cell_type": "code",
   "execution_count": 138,
   "id": "5d22ad02-d206-4aad-b897-6b6c92daa0ac",
   "metadata": {},
   "outputs": [
    {
     "data": {
      "text/plain": [
       "'1'"
      ]
     },
     "execution_count": 138,
     "metadata": {},
     "output_type": "execute_result"
    }
   ],
   "source": [
    "str(1)"
   ]
  },
  {
   "cell_type": "code",
   "execution_count": 140,
   "id": "268a07f0-8dc7-4855-bad3-0a8b1eafa078",
   "metadata": {},
   "outputs": [],
   "source": [
    "x1,y1=10,20"
   ]
  },
  {
   "cell_type": "code",
   "execution_count": 142,
   "id": "34a97650-e78d-42bb-8d44-cb0f5dec3115",
   "metadata": {},
   "outputs": [
    {
     "data": {
      "text/plain": [
       "30"
      ]
     },
     "execution_count": 142,
     "metadata": {},
     "output_type": "execute_result"
    }
   ],
   "source": [
    "x1+y1"
   ]
  },
  {
   "cell_type": "code",
   "execution_count": 144,
   "id": "0c1de7d4-96e0-4a4e-a38c-13870d72526e",
   "metadata": {},
   "outputs": [
    {
     "data": {
      "text/plain": [
       "0.5"
      ]
     },
     "execution_count": 144,
     "metadata": {},
     "output_type": "execute_result"
    }
   ],
   "source": [
    "x1/y1"
   ]
  },
  {
   "cell_type": "code",
   "execution_count": 146,
   "id": "ccea535a-c06f-4442-8398-f9c9d7dd66d6",
   "metadata": {},
   "outputs": [
    {
     "data": {
      "text/plain": [
       "0"
      ]
     },
     "execution_count": 146,
     "metadata": {},
     "output_type": "execute_result"
    }
   ],
   "source": [
    "x1//y1"
   ]
  },
  {
   "cell_type": "code",
   "execution_count": 172,
   "id": "b0f508f7-358a-418a-b96f-69dbb5cbb54a",
   "metadata": {},
   "outputs": [
    {
     "data": {
      "text/plain": [
       "50"
      ]
     },
     "execution_count": 172,
     "metadata": {},
     "output_type": "execute_result"
    }
   ],
   "source": [
    "x1=50\n",
    "x1"
   ]
  },
  {
   "cell_type": "code",
   "execution_count": 174,
   "id": "f58743c0-524a-4c1a-b2fa-de963549ccc9",
   "metadata": {},
   "outputs": [
    {
     "data": {
      "text/plain": [
       "100"
      ]
     },
     "execution_count": 174,
     "metadata": {},
     "output_type": "execute_result"
    }
   ],
   "source": [
    "x1*=2\n",
    "x1"
   ]
  },
  {
   "cell_type": "code",
   "execution_count": 188,
   "id": "989afe1b-f297-4cf4-9f02-8c927251e61d",
   "metadata": {},
   "outputs": [],
   "source": [
    "x1=20"
   ]
  },
  {
   "cell_type": "code",
   "execution_count": 190,
   "id": "b0463e52-8e10-48c8-bbcc-712509f51449",
   "metadata": {},
   "outputs": [
    {
     "name": "stdout",
     "output_type": "stream",
     "text": [
      "20 20\n"
     ]
    }
   ],
   "source": [
    "print(x1,y1)"
   ]
  },
  {
   "cell_type": "code",
   "execution_count": 182,
   "id": "b6d4cad2-964c-4ef2-8946-6852637e4a38",
   "metadata": {},
   "outputs": [
    {
     "data": {
      "text/plain": [
       "True"
      ]
     },
     "execution_count": 182,
     "metadata": {},
     "output_type": "execute_result"
    }
   ],
   "source": [
    "x1>y1"
   ]
  },
  {
   "cell_type": "code",
   "execution_count": 184,
   "id": "0ca28c53-3b46-48dd-a36d-5f6666205931",
   "metadata": {},
   "outputs": [
    {
     "data": {
      "text/plain": [
       "False"
      ]
     },
     "execution_count": 184,
     "metadata": {},
     "output_type": "execute_result"
    }
   ],
   "source": [
    "x1<y1"
   ]
  },
  {
   "cell_type": "code",
   "execution_count": 194,
   "id": "e25ac72e-fd9c-4a76-93d4-cb958dbb7528",
   "metadata": {},
   "outputs": [
    {
     "data": {
      "text/plain": [
       "True"
      ]
     },
     "execution_count": 194,
     "metadata": {},
     "output_type": "execute_result"
    }
   ],
   "source": [
    "x1==y1"
   ]
  },
  {
   "cell_type": "code",
   "execution_count": 198,
   "id": "9779dd22-1552-4c22-9a2d-5ec2ba1ee488",
   "metadata": {},
   "outputs": [
    {
     "data": {
      "text/plain": [
       "True"
      ]
     },
     "execution_count": 198,
     "metadata": {},
     "output_type": "execute_result"
    }
   ],
   "source": [
    "y=False\n",
    "not y"
   ]
  },
  {
   "cell_type": "code",
   "execution_count": null,
   "id": "288d6311-8d06-4e64-8c73-22457c748126",
   "metadata": {},
   "outputs": [],
   "source": []
  }
 ],
 "metadata": {
  "kernelspec": {
   "display_name": "Python [conda env:base] *",
   "language": "python",
   "name": "conda-base-py"
  },
  "language_info": {
   "codemirror_mode": {
    "name": "ipython",
    "version": 3
   },
   "file_extension": ".py",
   "mimetype": "text/x-python",
   "name": "python",
   "nbconvert_exporter": "python",
   "pygments_lexer": "ipython3",
   "version": "3.12.7"
  }
 },
 "nbformat": 4,
 "nbformat_minor": 5
}
